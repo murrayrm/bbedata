{
 "cells": [
  {
   "cell_type": "markdown",
   "metadata": {},
   "source": [
    "# Teaching Matrix\n",
    "Richard M. Murray, 18 Jan 2021\n",
    "\n",
    "This notebook generates the data needed for the BBE \"teaching matrix\" by reading in information provided by the registrar.  The data are parsed into data entries via custom parsing routes for each spreadsheet."
   ]
  },
  {
   "cell_type": "code",
   "execution_count": null,
   "metadata": {},
   "outputs": [],
   "source": [
    "import pandas as pd\n",
    "import numpy as np\n",
    "import re\n",
    "import bbedata as bbe"
   ]
  },
  {
   "cell_type": "code",
   "execution_count": null,
   "metadata": {},
   "outputs": [],
   "source": [
    "# Create a dataframe to store the result\n",
    "bbe_df = pd.DataFrame(columns=[\n",
    "    \"Course\", \"Title\", \"Option\", \"Instructor\", \"Units\", \"AY\", \"Term\", \"Time\", \"Size\"])"
   ]
  },
  {
   "cell_type": "code",
   "execution_count": null,
   "metadata": {},
   "outputs": [],
   "source": [
    "%load_ext autoreload\n",
    "%autoreload 2\n",
    "bbe.__version__"
   ]
  },
  {
   "cell_type": "markdown",
   "metadata": {},
   "source": [
    "### List of BBE options\n",
    "\n",
    "List of BBE options that we should be tracking"
   ]
  },
  {
   "cell_type": "code",
   "execution_count": null,
   "metadata": {},
   "outputs": [],
   "source": [
    "bbe_options = [\"BE\", \"Bi\", \"BMB\", \"CNS\", \"NB\"]\n",
    "bbe_pattern = re.compile(r\".*(BE|Bi|BMB|CNS|NB)+.*\")"
   ]
  },
  {
   "cell_type": "markdown",
   "metadata": {},
   "source": [
    "### Teaching\n",
    "\n",
    "Go through the various course data and collect up the results."
   ]
  },
  {
   "cell_type": "code",
   "execution_count": null,
   "metadata": {},
   "outputs": [],
   "source": [
    "# Read data from teaching assignments\n",
    "courses = bbe.read_regis_data(\"All courses past 5 years 210120.xlsx\", last_name_only=True)\n",
    "years = courses['AY'].unique()\n",
    "courses.info()"
   ]
  },
  {
   "cell_type": "code",
   "execution_count": null,
   "metadata": {},
   "outputs": [],
   "source": [
    "courses.head(50)"
   ]
  },
  {
   "cell_type": "code",
   "execution_count": null,
   "metadata": {},
   "outputs": [],
   "source": [
    "# Create a new data frame to store things by courses\n",
    "course_df = pd.DataFrame(\n",
    "    columns=\n",
    "    [\"Course\", \"Title\", \"Option req'd\", \"Units\", \"2020-21 term\", \"2020-21 instructor\", \n",
    "     \"Instructor(s)\", \"Term\"] +\n",
    "    [\"%s %s\" % (year, prop) for year in years[::-1]\n",
    "     for prop in [\"Instructor(s)\", \"enroll\"]]                     \n",
    ")\n",
    "\n",
    "for course in sorted(courses['Course'].unique()):\n",
    "    this_course = courses[courses['Course'] == course]\n",
    "    \n",
    "    # Skip research courses\n",
    "    if np.all(this_course['Type'].unique() == 'Research'):\n",
    "        continue\n",
    "        \n",
    "    # Create dictionary of properties\n",
    "    course_props = {'Course': course, 'Title': \"; \".join(this_course['Title'].unique())}\n",
    "    \n",
    "    # Get the list of instructors\n",
    "    course_props['Instructor(s)'] = \"; \".join(sorted(this_course[\"Instructors\"].unique()))\n",
    "    \n",
    "    # Get the terms it is taught\n",
    "    course_props['Term'] = \", \".join(sorted(this_course[\"Term\"].unique()))\n",
    "    \n",
    "    # Get the instructors and enrollments by year\n",
    "    for year in years:\n",
    "        this_year = this_course[this_course['AY'] == year]\n",
    "        if this_year[\"Instructors\"].size > 0:\n",
    "            course_props[\"%s Instructor(s)\" % year] = \", \".join(this_year[\"Instructors\"].unique())\n",
    "            course_props[\"%s enroll\" % year] = sum(this_year[\"Enrollment\"])\n",
    "        \n",
    "    course_df = course_df.append(course_props, ignore_index=True)"
   ]
  },
  {
   "cell_type": "code",
   "execution_count": null,
   "metadata": {},
   "outputs": [],
   "source": [
    "course_df.head(10)"
   ]
  },
  {
   "cell_type": "code",
   "execution_count": null,
   "metadata": {},
   "outputs": [],
   "source": [
    "# Write the data frame\n",
    "course_df.drop_duplicates(inplace=True)\n",
    "course_df.to_excel(\"BBE Teaching Matrix Template.xlsx\", \"Courses\", index=False)"
   ]
  },
  {
   "cell_type": "markdown",
   "metadata": {},
   "source": [
    "## Update teaching matrix\n",
    "\n",
    "This section of the code reads in an existing teaching matrix (in case it has been modified) and updates with responses from the teaching survey."
   ]
  },
  {
   "cell_type": "code",
   "execution_count": null,
   "metadata": {},
   "outputs": [],
   "source": [
    "# Read the teaching matrix\n",
    "course_df = pd.read_excel(\"BBE Teaching Matrix.xlsx\", header=1)\n",
    "course_df"
   ]
  },
  {
   "cell_type": "code",
   "execution_count": null,
   "metadata": {},
   "outputs": [],
   "source": [
    "# Read responses from the survey\n",
    "survey_df = bbe.load_teaching_survey(\"BBE Teaching Interest Survey, 2021-22 (Responses).xlsx\")\n",
    "survey_df"
   ]
  },
  {
   "cell_type": "code",
   "execution_count": null,
   "metadata": {},
   "outputs": [],
   "source": [
    "# Update the teaching matrix\n",
    "bbe.update_teaching_matrix(course_df, survey_df)\n",
    "course_df.iloc[13]"
   ]
  },
  {
   "cell_type": "code",
   "execution_count": null,
   "metadata": {},
   "outputs": [],
   "source": [
    "# Write out the new teaching matrix\n",
    "course_df.to_excel(\"BBE Teaching Matrix Updated.xlsx\", \"Courses\")"
   ]
  },
  {
   "cell_type": "code",
   "execution_count": null,
   "metadata": {},
   "outputs": [],
   "source": [
    "course_df"
   ]
  },
  {
   "cell_type": "code",
   "execution_count": null,
   "metadata": {},
   "outputs": [],
   "source": [
    "survey_df"
   ]
  },
  {
   "cell_type": "code",
   "execution_count": null,
   "metadata": {},
   "outputs": [],
   "source": []
  }
 ],
 "metadata": {
  "kernelspec": {
   "display_name": "Python 3",
   "language": "python",
   "name": "python3"
  },
  "language_info": {
   "codemirror_mode": {
    "name": "ipython",
    "version": 3
   },
   "file_extension": ".py",
   "mimetype": "text/x-python",
   "name": "python",
   "nbconvert_exporter": "python",
   "pygments_lexer": "ipython3",
   "version": "3.9.1"
  }
 },
 "nbformat": 4,
 "nbformat_minor": 4
}
