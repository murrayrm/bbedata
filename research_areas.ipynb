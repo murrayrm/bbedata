{
 "cells": [
  {
   "cell_type": "markdown",
   "id": "foreign-checklist",
   "metadata": {},
   "source": [
    "# Faculty Research Areas\n",
    "\n",
    "This notebook has code to generate various representations of faculty search areas, intended as input to our division hiring discussions.\n",
    "\n",
    "RMM, 14 Apr 2021"
   ]
  },
  {
   "cell_type": "code",
   "execution_count": null,
   "id": "romance-chapter",
   "metadata": {},
   "outputs": [],
   "source": [
    "import pandas as pd\n",
    "import numpy as np\n",
    "import matplotlib.pyplot as plt\n",
    "import bbedata as bbe"
   ]
  },
  {
   "cell_type": "code",
   "execution_count": null,
   "id": "other-baghdad",
   "metadata": {},
   "outputs": [],
   "source": [
    "# Read faculty research area spreadsheet\n",
    "areas_df = pd.read_excel(\"BBE Faculty Research Areas.xlsx\")\n",
    "areas_df = areas_df.dropna(axis=0, how='all')  # drop empty rows\n",
    "areas_df = areas_df.dropna(axis=1, how='all')  # drop empty columns\n",
    "areas_df.info"
   ]
  },
  {
   "cell_type": "code",
   "execution_count": null,
   "id": "legal-enterprise",
   "metadata": {},
   "outputs": [],
   "source": [
    "# Generate some tables of primary versus secondary\n",
    "linkages_df = pd.DataFrame(columns=[\"Area\", \"Primary (BBE)\", \"Primary (non-BBE)\", \"Second/Third\", \"Linkages\"])"
   ]
  },
  {
   "cell_type": "code",
   "execution_count": null,
   "id": "english-vertex",
   "metadata": {},
   "outputs": [],
   "source": [
    "primary_areas = areas_df['Area 1'].unique()\n",
    "primary_areas = sorted(filter(lambda v: v==v, primary_areas))\n",
    "primary_areas"
   ]
  },
  {
   "cell_type": "code",
   "execution_count": null,
   "id": "lyric-tooth",
   "metadata": {},
   "outputs": [],
   "source": [
    "for primary in primary_areas:\n",
    "    bbe_count = len(areas_df[(areas_df['Area 1'] == primary) & (areas_df['Div 1'] == 'BBE')])\n",
    "    nonbbe_count = len(areas_df[(areas_df['Area 1'] == primary) & (areas_df['Div 1'] != 'BBE')])\n",
    "    second_third = len(areas_df[(areas_df['Area 2'] == primary) | (areas_df['Area 3'] == primary)])\n",
    "    linkages_df = linkages_df.append({\n",
    "        'Area': primary,\n",
    "        'Primary (BBE)': bbe_count,\n",
    "        'Primary (non-BBE)': nonbbe_count,\n",
    "        'Second/Third': second_third,\n",
    "        'Linkages': 0\n",
    "    }, ignore_index=True)\n",
    "linkages_df"
   ]
  },
  {
   "cell_type": "code",
   "execution_count": null,
   "id": "orange-barbados",
   "metadata": {},
   "outputs": [],
   "source": [
    "areas_df['Area 1'] == primary"
   ]
  },
  {
   "cell_type": "code",
   "execution_count": null,
   "id": "cubic-tissue",
   "metadata": {},
   "outputs": [],
   "source": []
  }
 ],
 "metadata": {
  "kernelspec": {
   "display_name": "Python 3",
   "language": "python",
   "name": "python3"
  },
  "language_info": {
   "codemirror_mode": {
    "name": "ipython",
    "version": 3
   },
   "file_extension": ".py",
   "mimetype": "text/x-python",
   "name": "python",
   "nbconvert_exporter": "python",
   "pygments_lexer": "ipython3",
   "version": "3.9.1"
  }
 },
 "nbformat": 4,
 "nbformat_minor": 5
}
